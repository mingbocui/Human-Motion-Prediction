{
 "cells": [
  {
   "cell_type": "code",
   "execution_count": 1,
   "metadata": {},
   "outputs": [],
   "source": [
    "import os\n",
    "os.environ[\"CUDA_DEVICE_ORDER\"]=\"PCI_BUS_ID\"\n",
    "os.environ[\"CUDA_VISIBLE_DEVICES\"]=\"0,1,2,3\""
   ]
  },
  {
   "cell_type": "code",
   "execution_count": null,
   "metadata": {},
   "outputs": [
    {
     "name": "stdout",
     "output_type": "stream",
     "text": [
      "[INFO: cgs_train.py:  166]: Initializing train dataset\n",
      "8\n",
      "Length of Seq List: \n",
      "500\n",
      "[INFO: cgs_train.py:  168]: Initializing val dataset\n",
      "8\n",
      "Length of Seq List: \n",
      "500\n",
      "[INFO: cgs_train.py:  176]: There are 7.8125 iterations per epoch\n",
      "Feedforward GAN\n",
      "Image Dir:  images/three_traj_EN_LSTM(1)_DE_MLP(4)_DIS_FF(6)_L2_Weight(0.0)\n",
      "torch.LongTensor\n",
      "[INFO: cgs_train.py:  233]: Here is the generator:\n",
      "[INFO: cgs_train.py:  234]: TrajectoryGenerator(\n",
      "  (encoder): Encoder(\n",
      "    (pos_embed): PositionalEncoding(\n",
      "      (dropout): Dropout(p=0)\n",
      "    )\n",
      "    (encoder): LSTM(8, 16)\n",
      "    (spatial_embedding): Linear(in_features=2, out_features=8, bias=True)\n",
      "  )\n",
      "  (decoder): Decoder(\n",
      "    (decoder): Sequential(\n",
      "      (0): Linear(in_features=24, out_features=64, bias=True)\n",
      "      (1): BatchNorm1d(64, eps=1e-05, momentum=0.1, affine=True, track_running_stats=True)\n",
      "      (2): ReLU()\n",
      "      (3): Linear(in_features=64, out_features=64, bias=True)\n",
      "      (4): BatchNorm1d(64, eps=1e-05, momentum=0.1, affine=True, track_running_stats=True)\n",
      "      (5): ReLU()\n",
      "      (6): Linear(in_features=64, out_features=64, bias=True)\n",
      "    )\n",
      "    (spatial_embedding): Linear(in_features=2, out_features=8, bias=True)\n",
      "    (hidden2pos): Linear(in_features=8, out_features=2, bias=True)\n",
      "  )\n",
      "  (mlp_decoder_context): Sequential(\n",
      "    (0): Linear(in_features=16, out_features=12, bias=True)\n",
      "  )\n",
      ")\n",
      "torch.LongTensor\n",
      "[INFO: cgs_train.py:  252]: Here is the discriminator:\n",
      "[INFO: cgs_train.py:  253]: TrajectoryDiscriminator(\n",
      "  (encoder): Encoder(\n",
      "    (pos_embed): PositionalEncoding(\n",
      "      (dropout): Dropout(p=0)\n",
      "    )\n",
      "    (encoder): LSTM(8, 32)\n",
      "    (spatial_embedding): Linear(in_features=2, out_features=8, bias=True)\n",
      "  )\n",
      "  (real_classifier): Sequential(\n",
      "    (0): Linear(in_features=32, out_features=64, bias=True)\n",
      "    (1): ReLU()\n",
      "    (2): Linear(in_features=64, out_features=64, bias=True)\n",
      "    (3): ReLU()\n",
      "    (4): Linear(in_features=64, out_features=64, bias=True)\n",
      "    (5): ReLU()\n",
      "    (6): Linear(in_features=64, out_features=64, bias=True)\n",
      "    (7): ReLU()\n",
      "    (8): Linear(in_features=64, out_features=1, bias=True)\n",
      "  )\n",
      ")\n",
      "[!] teacher_name:  default\n",
      "[INFO: cgs_train.py:  362]: Starting epoch 1\n",
      "[INFO: cgs_train.py:  415]: t = 1 / 100000\n",
      "[INFO: cgs_train.py:  417]:   [D] D_data_loss: 1.960\n",
      "[INFO: cgs_train.py:  417]:   [D] D_total_loss: 1.960\n",
      "[INFO: cgs_train.py:  420]:   [G] G_discriminator_loss: 0.451\n",
      "[INFO: cgs_train.py:  420]:   [G] G_total_loss: 0.451\n"
     ]
    },
    {
     "data": {
      "text/plain": [
       "<Figure size 640x480 with 1 Axes>"
      ]
     },
     "metadata": {},
     "output_type": "display_data"
    },
    {
     "name": "stdout",
     "output_type": "stream",
     "text": [
      "Saving Plot\n",
      "[INFO: cgs_train.py:  362]: Starting epoch 2\n",
      "[INFO: cgs_train.py:  362]: Starting epoch 3\n",
      "[INFO: cgs_train.py:  362]: Starting epoch 4\n",
      "[INFO: cgs_train.py:  362]: Starting epoch 5\n",
      "[INFO: cgs_train.py:  362]: Starting epoch 6\n",
      "[INFO: cgs_train.py:  362]: Starting epoch 7\n",
      "[INFO: cgs_train.py:  362]: Starting epoch 8\n",
      "[INFO: cgs_train.py:  362]: Starting epoch 9\n",
      "[INFO: cgs_train.py:  362]: Starting epoch 10\n",
      "[INFO: cgs_train.py:  362]: Starting epoch 11\n",
      "[INFO: cgs_train.py:  362]: Starting epoch 12\n",
      "[INFO: cgs_train.py:  362]: Starting epoch 13\n",
      "Saving Plot\n",
      "[INFO: cgs_train.py:  362]: Starting epoch 14\n",
      "[INFO: cgs_train.py:  362]: Starting epoch 15\n",
      "[INFO: cgs_train.py:  362]: Starting epoch 16\n",
      "[INFO: cgs_train.py:  362]: Starting epoch 17\n",
      "[INFO: cgs_train.py:  362]: Starting epoch 18\n",
      "[INFO: cgs_train.py:  362]: Starting epoch 19\n",
      "[INFO: cgs_train.py:  362]: Starting epoch 20\n",
      "[INFO: cgs_train.py:  362]: Starting epoch 21\n",
      "[INFO: cgs_train.py:  362]: Starting epoch 22\n",
      "[INFO: cgs_train.py:  362]: Starting epoch 23\n",
      "[INFO: cgs_train.py:  362]: Starting epoch 24\n",
      "[INFO: cgs_train.py:  362]: Starting epoch 25\n",
      "[INFO: cgs_train.py:  362]: Starting epoch 26\n",
      "[INFO: cgs_train.py:  415]: t = 101 / 100000\n",
      "[INFO: cgs_train.py:  417]:   [D] D_data_loss: -0.255\n",
      "[INFO: cgs_train.py:  417]:   [D] D_total_loss: -0.255\n",
      "[INFO: cgs_train.py:  420]:   [G] G_discriminator_loss: 5.478\n",
      "[INFO: cgs_train.py:  420]:   [G] G_total_loss: 5.478\n"
     ]
    }
   ],
   "source": [
    "%run scripts/cgs_train.py --best_k 1 \\\n",
    "--l2_loss_weight 0 \\\n",
    "--Encoder_type 'LSTM' \\\n",
    "--Decoder_type 'MLP' \\\n",
    "--mlp_encoder_layers 3 \\\n",
    "--mlp_decoder_layers 4 \\\n",
    "--mlp_discriminator_layers 6 \\\n",
    "--dataset_name 'three_traj'"
   ]
  },
  {
   "cell_type": "code",
   "execution_count": null,
   "metadata": {},
   "outputs": [],
   "source": []
  }
 ],
 "metadata": {
  "kernelspec": {
   "display_name": "Python 2",
   "language": "python",
   "name": "python2"
  },
  "language_info": {
   "codemirror_mode": {
    "name": "ipython",
    "version": 3
   },
   "file_extension": ".py",
   "mimetype": "text/x-python",
   "name": "python",
   "nbconvert_exporter": "python",
   "pygments_lexer": "ipython3",
   "version": "3.5.5"
  }
 },
 "nbformat": 4,
 "nbformat_minor": 2
}
