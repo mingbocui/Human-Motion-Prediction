{
 "cells": [
  {
   "cell_type": "code",
   "execution_count": 1,
   "metadata": {},
   "outputs": [],
   "source": [
    "import numpy as np\n",
    "import matplotlib.pyplot as plt\n",
    "from scipy.stats import multivariate_normal\n",
    "from scipy.interpolate import interp1d\n",
    "from my_data_quadro import simpleTraj\n",
    "from my_data_quadro import createTrajDataset\n",
    "%matplotlib inline"
   ]
  },
  {
   "cell_type": "code",
   "execution_count": 2,
   "metadata": {},
   "outputs": [
    {
     "data": {
      "image/png": "[encoded data removed]",
      "text/plain": [
       "<matplotlib.figure.Figure at 0x7efbcf9fb860>"
      ]
     },
     "metadata": {},
     "output_type": "display_data"
    },
    {
     "name": "stdout",
     "output_type": "stream",
     "text": [
      "1\t0\t1.0\t0.0\n",
      "\n",
      "2\t0\t2.0\t0.0\n",
      "\n"
     ]
    }
   ],
   "source": [
    "createTrajDataset('toy.txt', num_traj=500, prob = [1/5, 1/5, 1/5,1/5, 1/5, 0, 0])"
   ]
  },
  {
   "cell_type": "code",
   "execution_count": 4,
   "metadata": {},
   "outputs": [
    {
     "name": "stdout",
     "output_type": "stream",
     "text": [
      "'5trajectory.txt' -> '../datasets/eth/test/5trajectory.txt'\n",
      "'5trajectory.txt' -> '../datasets/eth/train/5trajectory.txt'\n",
      "'5trajectory.txt' -> '../datasets/eth/val/5trajectory.txt'\n"
     ]
    }
   ],
   "source": [
    "! chmod 777 moveTraj.sh\n",
    "! bash moveTraj.sh"
   ]
  },
  {
   "cell_type": "code",
   "execution_count": 34,
   "metadata": {},
   "outputs": [],
   "source": [
    "xx = np.linspace(0, 4, num=8, endpoint=True)\n",
    "yy = 3*np.power(xx, 0.5)\n",
    "zz = np.power(xx, 0.3)"
   ]
  },
  {
   "cell_type": "code",
   "execution_count": 35,
   "metadata": {},
   "outputs": [
    {
     "data": {
      "text/plain": [
       "[<matplotlib.lines.Line2D at 0x7f1df1392d30>,\n",
       " <matplotlib.lines.Line2D at 0x7f1df1392e80>]"
      ]
     },
     "execution_count": 35,
     "metadata": {},
     "output_type": "execute_result"
    },
    {
     "data": {
      "image/png": "[encoded data removed]",
      "text/plain": [
       "<Figure size 432x288 with 1 Axes>"
      ]
     },
     "metadata": {},
     "output_type": "display_data"
    }
   ],
   "source": [
    "plt.plot(xx,yy,zz)"
   ]
  },
  {
   "cell_type": "code",
   "execution_count": 36,
   "metadata": {},
   "outputs": [
    {
     "data": {
      "text/plain": [
       "array([0.        , 0.57142857, 1.14285714, 1.71428571, 2.28571429,\n",
       "       2.85714286, 3.42857143, 4.        ])"
      ]
     },
     "execution_count": 36,
     "metadata": {},
     "output_type": "execute_result"
    }
   ],
   "source": [
    "xx"
   ]
  },
  {
   "cell_type": "code",
   "execution_count": null,
   "metadata": {},
   "outputs": [],
   "source": []
  }
 ],
 "metadata": {
  "kernelspec": {
   "display_name": "Python 3",
   "language": "python",
   "name": "python3"
  },
  "language_info": {
   "codemirror_mode": {
    "name": "ipython",
    "version": 3
   },
   "file_extension": ".py",
   "mimetype": "text/x-python",
   "name": "python",
   "nbconvert_exporter": "python",
   "pygments_lexer": "ipython3",
   "version": "3.6.3"
  }
 },
 "nbformat": 4,
 "nbformat_minor": 2
}
